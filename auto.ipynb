{
 "cells": [
  {
   "cell_type": "code",
   "execution_count": 88,
   "metadata": {},
   "outputs": [],
   "source": [
    "import matplotlib.pyplot as plt\n",
    "import numpy as np\n",
    "import pandas as pd\n",
    "import tensorflow as tf\n",
    "from sklearn.metrics import accuracy_score, precision_score, recall_score\n",
    "from sklearn.model_selection import train_test_split\n",
    "from tensorflow.keras import layers, losses\n",
    "from tensorflow.keras.datasets import fashion_mnist\n",
    "from tensorflow.keras.models import Model\n",
    "import matplotlib.pyplot as plt\n",
    "from sklearn.model_selection import train_test_split"
   ]
  },
  {
   "cell_type": "code",
   "execution_count": 89,
   "metadata": {},
   "outputs": [],
   "source": [
    "data = pd.read_excel('./OppScrData.xlsx', index_col=None)\n",
    "data=data[data.columns[0:52]]\n",
    "data.head()\n",
    "clinical_col=data.columns[0:14]\n",
    "outcome_col=data.columns[15:40]\n",
    "CT_col=data.columns[41:52]\n",
    "CT_data=data[CT_col]\n",
    "CT_data=CT_data.fillna(CT_data.mean())\n",
    "CT_data['Liver HU    (Median)']=pd.to_numeric(CT_data['Liver HU    (Median)'],errors='coerce')\n",
    "CT_data=CT_data.fillna(CT_data.mean())\n",
    "CT_data=CT_data.astype(float)"
   ]
  },
  {
   "cell_type": "code",
   "execution_count": 90,
   "metadata": {},
   "outputs": [],
   "source": [
    "CL_data=data[clinical_col]\n",
    "CL_data=CL_data.drop(columns=['Record ID', 'Visit ID', 'PT ID','BMI >30', 'Met Sx'])\n",
    "CL_data['BMI']=CL_data['BMI'].fillna(CL_data['BMI'].mean())\n",
    "(CL_data['Tobacco']=='Yes').sum()/len(CL_data)\n",
    "CL_data['Tobacco']=CL_data['Tobacco'].fillna('No')\n",
    "CL_data['Alcohol abuse']=CL_data['Alcohol abuse'].fillna(0)\n",
    "CL_data['Alcohol abuse']=CL_data['Alcohol abuse'].apply(lambda x: 1 if x!=0 else 0)\n",
    "for i in ['Sex','Tobacco']:\n",
    "    CL_data[i] = pd.factorize(CL_data[i])[0] + 1\n",
    "CL_data['FRS 10-year risk (%)']=CL_data['FRS 10-year risk (%)'].apply(lambda x: 0.005 if x=='<1%' else x)\n",
    "CL_data['FRS 10-year risk (%)']=CL_data['FRS 10-year risk (%)'].apply(lambda x: 0.3 if x=='>30%' else x)\n",
    "fm=np.mean(CL_data['FRS 10-year risk (%)'][CL_data['FRS 10-year risk (%)']!='X'])\n",
    "CL_data['FRS 10-year risk (%)']=CL_data['FRS 10-year risk (%)'].apply(lambda x: fm if x=='X' else x)\n",
    "for i in ['FRS 10-year risk (%)','FRAX 10y Fx Prob (Orange-w/ DXA)','FRAX 10y Hip Fx Prob (Orange-w/ DXA)']:\n",
    "    CL_data[i]=pd.to_numeric(CL_data[i],errors='coerce')\n",
    "    CL_data[i]=CL_data[i].fillna(CL_data[i].mean())\n",
    "CL_CT_data=pd.concat([CL_data,CT_data],axis=1)"
   ]
  },
  {
   "cell_type": "code",
   "execution_count": 91,
   "metadata": {},
   "outputs": [],
   "source": [
    "X = CL_CT_data.values\n",
    "training_X, testing_X = train_test_split(X, test_size = 0.2)\n",
    "from sklearn.preprocessing import MinMaxScaler\n",
    "sc = MinMaxScaler()\n",
    "training_X = sc.fit_transform(training_X)\n",
    "testing_X = sc.transform(testing_X)"
   ]
  },
  {
   "cell_type": "code",
   "execution_count": 92,
   "metadata": {},
   "outputs": [
    {
     "name": "stdout",
     "output_type": "stream",
     "text": [
      "(7378, 20)\n",
      "(1845, 20)\n"
     ]
    }
   ],
   "source": [
    "print (training_X.shape)\n",
    "print (testing_X.shape)"
   ]
  },
  {
   "cell_type": "code",
   "execution_count": 93,
   "metadata": {},
   "outputs": [],
   "source": [
    "latent_dim = 6\n",
    "\n",
    "class Autoencoder(Model):\n",
    "  def __init__(self, latent_dim):\n",
    "    super(Autoencoder, self).__init__()\n",
    "    self.latent_dim = latent_dim   \n",
    "    self.encoder = tf.keras.Sequential([\n",
    "      layers.Dense(16, activation='relu'),\n",
    "      layers.Dense(8, activation='tanh'),\n",
    "      layers.Dense(latent_dim, activation='relu'),\n",
    "    ])\n",
    "    self.decoder = tf.keras.Sequential([\n",
    "      layers.Dense(8, activation='tanh'),\n",
    "      layers.Dense(16, activation='relu'),\n",
    "      layers.Dense(np.size(X,1), activation='sigmoid')\n",
    "    ])\n",
    "\n",
    "  def call(self, x):\n",
    "    encoded = self.encoder(x)\n",
    "    decoded = self.decoder(encoded)\n",
    "    return decoded\n",
    "\n",
    "autoencoder = Autoencoder(latent_dim)"
   ]
  },
  {
   "cell_type": "code",
   "execution_count": 94,
   "metadata": {},
   "outputs": [],
   "source": [
    "autoencoder.compile(optimizer='adam', loss=losses.MeanSquaredError())"
   ]
  },
  {
   "cell_type": "code",
   "execution_count": 95,
   "metadata": {},
   "outputs": [
    {
     "name": "stdout",
     "output_type": "stream",
     "text": [
      "Epoch 1/200\n",
      "462/462 [==============================] - 1s 2ms/step - loss: 0.0439 - val_loss: 0.0171\n",
      "Epoch 2/200\n",
      "462/462 [==============================] - 1s 1ms/step - loss: 0.0133 - val_loss: 0.0123\n",
      "Epoch 3/200\n",
      "462/462 [==============================] - 1s 1ms/step - loss: 0.0111 - val_loss: 0.0099\n",
      "Epoch 4/200\n",
      "462/462 [==============================] - 1s 1ms/step - loss: 0.0081 - val_loss: 0.0071\n",
      "Epoch 5/200\n",
      "462/462 [==============================] - 1s 1ms/step - loss: 0.0059 - val_loss: 0.0057\n",
      "Epoch 6/200\n",
      "462/462 [==============================] - 1s 1ms/step - loss: 0.0051 - val_loss: 0.0052\n",
      "Epoch 7/200\n",
      "462/462 [==============================] - 1s 1ms/step - loss: 0.0048 - val_loss: 0.0050\n",
      "Epoch 8/200\n",
      "462/462 [==============================] - 1s 1ms/step - loss: 0.0047 - val_loss: 0.0049\n",
      "Epoch 9/200\n",
      "462/462 [==============================] - 1s 1ms/step - loss: 0.0046 - val_loss: 0.0049\n",
      "Epoch 10/200\n",
      "462/462 [==============================] - 1s 1ms/step - loss: 0.0045 - val_loss: 0.0048\n",
      "Epoch 11/200\n",
      "462/462 [==============================] - 1s 1ms/step - loss: 0.0045 - val_loss: 0.0047\n",
      "Epoch 12/200\n",
      "462/462 [==============================] - 1s 1ms/step - loss: 0.0044 - val_loss: 0.0045\n",
      "Epoch 13/200\n",
      "462/462 [==============================] - 1s 1ms/step - loss: 0.0042 - val_loss: 0.0043\n",
      "Epoch 14/200\n",
      "462/462 [==============================] - 1s 1ms/step - loss: 0.0040 - val_loss: 0.0040\n",
      "Epoch 15/200\n",
      "462/462 [==============================] - 1s 1ms/step - loss: 0.0037 - val_loss: 0.0038\n",
      "Epoch 16/200\n",
      "462/462 [==============================] - 1s 1ms/step - loss: 0.0036 - val_loss: 0.0037\n",
      "Epoch 17/200\n",
      "462/462 [==============================] - 1s 1ms/step - loss: 0.0036 - val_loss: 0.0037\n",
      "Epoch 18/200\n",
      "462/462 [==============================] - 1s 1ms/step - loss: 0.0035 - val_loss: 0.0037\n",
      "Epoch 19/200\n",
      "462/462 [==============================] - 1s 2ms/step - loss: 0.0035 - val_loss: 0.0036\n",
      "Epoch 20/200\n",
      "462/462 [==============================] - 1s 2ms/step - loss: 0.0035 - val_loss: 0.0037\n",
      "Epoch 21/200\n",
      "462/462 [==============================] - 1s 1ms/step - loss: 0.0035 - val_loss: 0.0036\n",
      "Epoch 22/200\n",
      "462/462 [==============================] - 1s 1ms/step - loss: 0.0035 - val_loss: 0.0036\n",
      "Epoch 23/200\n",
      "462/462 [==============================] - 1s 1ms/step - loss: 0.0035 - val_loss: 0.0036\n",
      "Epoch 24/200\n",
      "462/462 [==============================] - 1s 1ms/step - loss: 0.0035 - val_loss: 0.0036\n",
      "Epoch 25/200\n",
      "462/462 [==============================] - 1s 1ms/step - loss: 0.0034 - val_loss: 0.0036\n",
      "Epoch 26/200\n",
      "462/462 [==============================] - 1s 1ms/step - loss: 0.0034 - val_loss: 0.0035\n",
      "Epoch 27/200\n",
      "462/462 [==============================] - 1s 1ms/step - loss: 0.0033 - val_loss: 0.0035\n",
      "Epoch 28/200\n",
      "462/462 [==============================] - 1s 1ms/step - loss: 0.0031 - val_loss: 0.0032\n",
      "Epoch 29/200\n",
      "462/462 [==============================] - 1s 1ms/step - loss: 0.0028 - val_loss: 0.0029\n",
      "Epoch 30/200\n",
      "462/462 [==============================] - 1s 1ms/step - loss: 0.0025 - val_loss: 0.0027\n",
      "Epoch 31/200\n",
      "462/462 [==============================] - 1s 1ms/step - loss: 0.0023 - val_loss: 0.0026\n",
      "Epoch 32/200\n",
      "462/462 [==============================] - 1s 1ms/step - loss: 0.0022 - val_loss: 0.0025\n",
      "Epoch 33/200\n",
      "462/462 [==============================] - 1s 1ms/step - loss: 0.0022 - val_loss: 0.0025\n",
      "Epoch 34/200\n",
      "462/462 [==============================] - 1s 1ms/step - loss: 0.0021 - val_loss: 0.0025\n",
      "Epoch 35/200\n",
      "462/462 [==============================] - 1s 1ms/step - loss: 0.0021 - val_loss: 0.0024\n",
      "Epoch 36/200\n",
      "462/462 [==============================] - 1s 1ms/step - loss: 0.0021 - val_loss: 0.0024\n",
      "Epoch 37/200\n",
      "462/462 [==============================] - 1s 1ms/step - loss: 0.0021 - val_loss: 0.0024\n",
      "Epoch 38/200\n",
      "462/462 [==============================] - 1s 1ms/step - loss: 0.0021 - val_loss: 0.0024\n",
      "Epoch 39/200\n",
      "462/462 [==============================] - 1s 1ms/step - loss: 0.0020 - val_loss: 0.0024\n",
      "Epoch 40/200\n",
      "462/462 [==============================] - 1s 1ms/step - loss: 0.0020 - val_loss: 0.0023\n",
      "Epoch 41/200\n",
      "462/462 [==============================] - 1s 1ms/step - loss: 0.0020 - val_loss: 0.0024\n",
      "Epoch 42/200\n",
      "462/462 [==============================] - 1s 1ms/step - loss: 0.0020 - val_loss: 0.0023\n",
      "Epoch 43/200\n",
      "462/462 [==============================] - 1s 1ms/step - loss: 0.0019 - val_loss: 0.0023\n",
      "Epoch 44/200\n",
      "462/462 [==============================] - 1s 1ms/step - loss: 0.0019 - val_loss: 0.0023\n",
      "Epoch 45/200\n",
      "462/462 [==============================] - 1s 1ms/step - loss: 0.0019 - val_loss: 0.0022\n",
      "Epoch 46/200\n",
      "462/462 [==============================] - 1s 1ms/step - loss: 0.0019 - val_loss: 0.0022\n",
      "Epoch 47/200\n",
      "462/462 [==============================] - 1s 1ms/step - loss: 0.0019 - val_loss: 0.0022\n",
      "Epoch 48/200\n",
      "462/462 [==============================] - 1s 1ms/step - loss: 0.0019 - val_loss: 0.0022\n",
      "Epoch 49/200\n",
      "462/462 [==============================] - 1s 1ms/step - loss: 0.0018 - val_loss: 0.0023\n",
      "Epoch 50/200\n",
      "462/462 [==============================] - 1s 1ms/step - loss: 0.0018 - val_loss: 0.0022\n",
      "Epoch 51/200\n",
      "462/462 [==============================] - 1s 1ms/step - loss: 0.0018 - val_loss: 0.0022\n",
      "Epoch 52/200\n",
      "462/462 [==============================] - 1s 1ms/step - loss: 0.0018 - val_loss: 0.0021\n",
      "Epoch 53/200\n",
      "462/462 [==============================] - 1s 1ms/step - loss: 0.0018 - val_loss: 0.0022\n",
      "Epoch 54/200\n",
      "462/462 [==============================] - 1s 1ms/step - loss: 0.0018 - val_loss: 0.0022\n",
      "Epoch 55/200\n",
      "462/462 [==============================] - 1s 1ms/step - loss: 0.0018 - val_loss: 0.0021\n",
      "Epoch 56/200\n",
      "462/462 [==============================] - 1s 1ms/step - loss: 0.0018 - val_loss: 0.0021\n",
      "Epoch 57/200\n",
      "462/462 [==============================] - 1s 1ms/step - loss: 0.0017 - val_loss: 0.0021\n",
      "Epoch 58/200\n",
      "462/462 [==============================] - 1s 1ms/step - loss: 0.0017 - val_loss: 0.0021\n",
      "Epoch 59/200\n",
      "462/462 [==============================] - 1s 1ms/step - loss: 0.0017 - val_loss: 0.0021\n",
      "Epoch 60/200\n",
      "462/462 [==============================] - 1s 1ms/step - loss: 0.0017 - val_loss: 0.0021\n",
      "Epoch 61/200\n",
      "462/462 [==============================] - 1s 1ms/step - loss: 0.0017 - val_loss: 0.0021\n",
      "Epoch 62/200\n",
      "462/462 [==============================] - 1s 1ms/step - loss: 0.0017 - val_loss: 0.0021\n",
      "Epoch 63/200\n",
      "462/462 [==============================] - 1s 1ms/step - loss: 0.0017 - val_loss: 0.0022\n",
      "Epoch 64/200\n",
      "462/462 [==============================] - 1s 1ms/step - loss: 0.0017 - val_loss: 0.0020\n",
      "Epoch 65/200\n",
      "462/462 [==============================] - 1s 1ms/step - loss: 0.0017 - val_loss: 0.0021\n",
      "Epoch 66/200\n",
      "462/462 [==============================] - 1s 1ms/step - loss: 0.0017 - val_loss: 0.0021\n",
      "Epoch 67/200\n",
      "462/462 [==============================] - 1s 1ms/step - loss: 0.0017 - val_loss: 0.0021\n",
      "Epoch 68/200\n",
      "462/462 [==============================] - 1s 1ms/step - loss: 0.0017 - val_loss: 0.0021\n",
      "Epoch 69/200\n",
      "462/462 [==============================] - 1s 1ms/step - loss: 0.0017 - val_loss: 0.0021\n",
      "Epoch 70/200\n",
      "462/462 [==============================] - 1s 1ms/step - loss: 0.0017 - val_loss: 0.0021\n",
      "Epoch 71/200\n",
      "462/462 [==============================] - 1s 1ms/step - loss: 0.0017 - val_loss: 0.0021\n",
      "Epoch 72/200\n",
      "462/462 [==============================] - 1s 1ms/step - loss: 0.0017 - val_loss: 0.0020\n",
      "Epoch 73/200\n",
      "462/462 [==============================] - 1s 1ms/step - loss: 0.0016 - val_loss: 0.0021\n",
      "Epoch 74/200\n",
      "462/462 [==============================] - 1s 1ms/step - loss: 0.0016 - val_loss: 0.0021\n",
      "Epoch 75/200\n",
      "462/462 [==============================] - 1s 1ms/step - loss: 0.0016 - val_loss: 0.0020\n",
      "Epoch 76/200\n",
      "462/462 [==============================] - 1s 1ms/step - loss: 0.0016 - val_loss: 0.0020\n",
      "Epoch 77/200\n",
      "462/462 [==============================] - 1s 1ms/step - loss: 0.0016 - val_loss: 0.0021\n",
      "Epoch 78/200\n",
      "462/462 [==============================] - 1s 1ms/step - loss: 0.0016 - val_loss: 0.0021\n",
      "Epoch 79/200\n",
      "462/462 [==============================] - 1s 1ms/step - loss: 0.0016 - val_loss: 0.0021\n",
      "Epoch 80/200\n",
      "462/462 [==============================] - 1s 1ms/step - loss: 0.0016 - val_loss: 0.0020\n",
      "Epoch 81/200\n",
      "462/462 [==============================] - 1s 2ms/step - loss: 0.0016 - val_loss: 0.0021\n",
      "Epoch 82/200\n",
      "462/462 [==============================] - 1s 1ms/step - loss: 0.0016 - val_loss: 0.0021\n",
      "Epoch 83/200\n",
      "462/462 [==============================] - 1s 1ms/step - loss: 0.0016 - val_loss: 0.0020\n",
      "Epoch 84/200\n",
      "462/462 [==============================] - 1s 1ms/step - loss: 0.0016 - val_loss: 0.0020\n",
      "Epoch 85/200\n",
      "462/462 [==============================] - 1s 1ms/step - loss: 0.0016 - val_loss: 0.0020\n",
      "Epoch 86/200\n",
      "462/462 [==============================] - 1s 1ms/step - loss: 0.0016 - val_loss: 0.0020\n",
      "Epoch 87/200\n",
      "462/462 [==============================] - 1s 1ms/step - loss: 0.0016 - val_loss: 0.0020\n",
      "Epoch 88/200\n",
      "462/462 [==============================] - 1s 1ms/step - loss: 0.0016 - val_loss: 0.0020\n",
      "Epoch 89/200\n",
      "462/462 [==============================] - 1s 2ms/step - loss: 0.0016 - val_loss: 0.0020\n",
      "Epoch 90/200\n",
      "462/462 [==============================] - 1s 2ms/step - loss: 0.0015 - val_loss: 0.0019\n",
      "Epoch 91/200\n",
      "462/462 [==============================] - 1s 2ms/step - loss: 0.0015 - val_loss: 0.0019\n",
      "Epoch 92/200\n",
      "462/462 [==============================] - 1s 2ms/step - loss: 0.0015 - val_loss: 0.0019\n",
      "Epoch 93/200\n",
      "462/462 [==============================] - 1s 2ms/step - loss: 0.0014 - val_loss: 0.0019\n",
      "Epoch 94/200\n",
      "462/462 [==============================] - 1s 2ms/step - loss: 0.0014 - val_loss: 0.0018\n",
      "Epoch 95/200\n",
      "462/462 [==============================] - 1s 2ms/step - loss: 0.0014 - val_loss: 0.0018\n",
      "Epoch 96/200\n",
      "462/462 [==============================] - 1s 2ms/step - loss: 0.0013 - val_loss: 0.0018\n",
      "Epoch 97/200\n",
      "462/462 [==============================] - 1s 2ms/step - loss: 0.0013 - val_loss: 0.0018\n",
      "Epoch 98/200\n",
      "462/462 [==============================] - 1s 2ms/step - loss: 0.0013 - val_loss: 0.0018\n",
      "Epoch 99/200\n",
      "462/462 [==============================] - 1s 2ms/step - loss: 0.0013 - val_loss: 0.0018\n",
      "Epoch 100/200\n",
      "462/462 [==============================] - 1s 2ms/step - loss: 0.0013 - val_loss: 0.0018\n",
      "Epoch 101/200\n",
      "462/462 [==============================] - 1s 1ms/step - loss: 0.0013 - val_loss: 0.0018\n",
      "Epoch 102/200\n",
      "462/462 [==============================] - 1s 2ms/step - loss: 0.0013 - val_loss: 0.0018\n",
      "Epoch 103/200\n",
      "462/462 [==============================] - 1s 2ms/step - loss: 0.0013 - val_loss: 0.0018\n",
      "Epoch 104/200\n",
      "462/462 [==============================] - 1s 2ms/step - loss: 0.0013 - val_loss: 0.0017\n",
      "Epoch 105/200\n",
      "462/462 [==============================] - 1s 2ms/step - loss: 0.0013 - val_loss: 0.0017\n",
      "Epoch 106/200\n",
      "462/462 [==============================] - 1s 2ms/step - loss: 0.0013 - val_loss: 0.0017\n",
      "Epoch 107/200\n",
      "462/462 [==============================] - 1s 2ms/step - loss: 0.0013 - val_loss: 0.0018\n",
      "Epoch 108/200\n",
      "462/462 [==============================] - 1s 2ms/step - loss: 0.0013 - val_loss: 0.0017\n",
      "Epoch 109/200\n",
      "462/462 [==============================] - 1s 2ms/step - loss: 0.0013 - val_loss: 0.0017\n",
      "Epoch 110/200\n",
      "462/462 [==============================] - 1s 2ms/step - loss: 0.0013 - val_loss: 0.0017\n",
      "Epoch 111/200\n",
      "462/462 [==============================] - 1s 2ms/step - loss: 0.0013 - val_loss: 0.0017\n",
      "Epoch 112/200\n",
      "462/462 [==============================] - 1s 2ms/step - loss: 0.0013 - val_loss: 0.0019\n",
      "Epoch 113/200\n",
      "462/462 [==============================] - 1s 2ms/step - loss: 0.0013 - val_loss: 0.0018\n",
      "Epoch 114/200\n",
      "462/462 [==============================] - 1s 2ms/step - loss: 0.0013 - val_loss: 0.0017\n",
      "Epoch 115/200\n",
      "462/462 [==============================] - 1s 2ms/step - loss: 0.0012 - val_loss: 0.0017\n",
      "Epoch 116/200\n",
      "462/462 [==============================] - 1s 2ms/step - loss: 0.0012 - val_loss: 0.0017\n",
      "Epoch 117/200\n",
      "462/462 [==============================] - 1s 2ms/step - loss: 0.0012 - val_loss: 0.0017\n",
      "Epoch 118/200\n",
      "462/462 [==============================] - 1s 2ms/step - loss: 0.0013 - val_loss: 0.0017\n",
      "Epoch 119/200\n",
      "462/462 [==============================] - 1s 2ms/step - loss: 0.0012 - val_loss: 0.0017\n",
      "Epoch 120/200\n",
      "462/462 [==============================] - 1s 2ms/step - loss: 0.0012 - val_loss: 0.0017\n",
      "Epoch 121/200\n",
      "462/462 [==============================] - 1s 2ms/step - loss: 0.0012 - val_loss: 0.0017\n",
      "Epoch 122/200\n",
      "462/462 [==============================] - 1s 2ms/step - loss: 0.0012 - val_loss: 0.0017\n",
      "Epoch 123/200\n",
      "462/462 [==============================] - 1s 2ms/step - loss: 0.0012 - val_loss: 0.0017\n",
      "Epoch 124/200\n",
      "462/462 [==============================] - 1s 2ms/step - loss: 0.0012 - val_loss: 0.0017\n",
      "Epoch 125/200\n",
      "462/462 [==============================] - 1s 2ms/step - loss: 0.0012 - val_loss: 0.0017\n",
      "Epoch 126/200\n",
      "462/462 [==============================] - 1s 2ms/step - loss: 0.0012 - val_loss: 0.0017\n",
      "Epoch 127/200\n",
      "462/462 [==============================] - 1s 2ms/step - loss: 0.0012 - val_loss: 0.0017\n",
      "Epoch 128/200\n",
      "462/462 [==============================] - 1s 2ms/step - loss: 0.0012 - val_loss: 0.0017\n",
      "Epoch 129/200\n",
      "462/462 [==============================] - 1s 2ms/step - loss: 0.0012 - val_loss: 0.0017\n",
      "Epoch 130/200\n",
      "462/462 [==============================] - 1s 2ms/step - loss: 0.0012 - val_loss: 0.0017\n",
      "Epoch 131/200\n",
      "462/462 [==============================] - 1s 2ms/step - loss: 0.0012 - val_loss: 0.0017\n",
      "Epoch 132/200\n",
      "462/462 [==============================] - 1s 2ms/step - loss: 0.0012 - val_loss: 0.0017\n",
      "Epoch 133/200\n",
      "462/462 [==============================] - 1s 2ms/step - loss: 0.0012 - val_loss: 0.0017\n",
      "Epoch 134/200\n",
      "462/462 [==============================] - 1s 2ms/step - loss: 0.0012 - val_loss: 0.0016\n",
      "Epoch 135/200\n",
      "462/462 [==============================] - 1s 2ms/step - loss: 0.0012 - val_loss: 0.0017\n",
      "Epoch 136/200\n",
      "462/462 [==============================] - 1s 2ms/step - loss: 0.0012 - val_loss: 0.0016\n",
      "Epoch 137/200\n",
      "462/462 [==============================] - 1s 2ms/step - loss: 0.0012 - val_loss: 0.0016\n",
      "Epoch 138/200\n",
      "462/462 [==============================] - 1s 2ms/step - loss: 0.0012 - val_loss: 0.0016\n",
      "Epoch 139/200\n",
      "462/462 [==============================] - 1s 2ms/step - loss: 0.0012 - val_loss: 0.0016\n",
      "Epoch 140/200\n",
      "462/462 [==============================] - 1s 2ms/step - loss: 0.0012 - val_loss: 0.0016\n",
      "Epoch 141/200\n",
      "462/462 [==============================] - 1s 2ms/step - loss: 0.0012 - val_loss: 0.0016\n",
      "Epoch 142/200\n",
      "462/462 [==============================] - 1s 2ms/step - loss: 0.0012 - val_loss: 0.0016\n",
      "Epoch 143/200\n",
      "462/462 [==============================] - 1s 2ms/step - loss: 0.0012 - val_loss: 0.0016\n",
      "Epoch 144/200\n",
      "462/462 [==============================] - 1s 2ms/step - loss: 0.0012 - val_loss: 0.0016\n",
      "Epoch 145/200\n",
      "462/462 [==============================] - 1s 2ms/step - loss: 0.0012 - val_loss: 0.0016\n",
      "Epoch 146/200\n",
      "462/462 [==============================] - 1s 2ms/step - loss: 0.0012 - val_loss: 0.0016\n",
      "Epoch 147/200\n",
      "462/462 [==============================] - 1s 2ms/step - loss: 0.0012 - val_loss: 0.0016\n",
      "Epoch 148/200\n",
      "462/462 [==============================] - 1s 2ms/step - loss: 0.0012 - val_loss: 0.0016\n",
      "Epoch 149/200\n",
      "462/462 [==============================] - 1s 2ms/step - loss: 0.0012 - val_loss: 0.0016\n",
      "Epoch 150/200\n",
      "462/462 [==============================] - 1s 2ms/step - loss: 0.0012 - val_loss: 0.0016\n",
      "Epoch 151/200\n",
      "462/462 [==============================] - 1s 2ms/step - loss: 0.0012 - val_loss: 0.0016\n",
      "Epoch 152/200\n",
      "462/462 [==============================] - 1s 2ms/step - loss: 0.0012 - val_loss: 0.0016\n",
      "Epoch 153/200\n",
      "462/462 [==============================] - 1s 2ms/step - loss: 0.0012 - val_loss: 0.0016\n",
      "Epoch 154/200\n",
      "462/462 [==============================] - 1s 2ms/step - loss: 0.0012 - val_loss: 0.0016\n",
      "Epoch 155/200\n",
      "462/462 [==============================] - 1s 2ms/step - loss: 0.0012 - val_loss: 0.0016\n",
      "Epoch 156/200\n",
      "462/462 [==============================] - 1s 2ms/step - loss: 0.0012 - val_loss: 0.0016\n",
      "Epoch 157/200\n",
      "462/462 [==============================] - 1s 2ms/step - loss: 0.0012 - val_loss: 0.0016\n",
      "Epoch 158/200\n",
      "462/462 [==============================] - 1s 2ms/step - loss: 0.0012 - val_loss: 0.0016\n",
      "Epoch 159/200\n",
      "462/462 [==============================] - 1s 1ms/step - loss: 0.0012 - val_loss: 0.0016\n",
      "Epoch 160/200\n",
      "462/462 [==============================] - 1s 2ms/step - loss: 0.0012 - val_loss: 0.0016\n",
      "Epoch 161/200\n",
      "462/462 [==============================] - 1s 2ms/step - loss: 0.0012 - val_loss: 0.0016\n",
      "Epoch 162/200\n",
      "462/462 [==============================] - 1s 2ms/step - loss: 0.0012 - val_loss: 0.0016\n",
      "Epoch 163/200\n",
      "462/462 [==============================] - 1s 2ms/step - loss: 0.0012 - val_loss: 0.0016\n",
      "Epoch 164/200\n",
      "462/462 [==============================] - 1s 2ms/step - loss: 0.0012 - val_loss: 0.0016\n",
      "Epoch 165/200\n",
      "462/462 [==============================] - 1s 2ms/step - loss: 0.0012 - val_loss: 0.0016\n",
      "Epoch 166/200\n",
      "462/462 [==============================] - 1s 2ms/step - loss: 0.0012 - val_loss: 0.0016\n",
      "Epoch 167/200\n",
      "462/462 [==============================] - 1s 2ms/step - loss: 0.0012 - val_loss: 0.0016\n",
      "Epoch 168/200\n",
      "462/462 [==============================] - 1s 2ms/step - loss: 0.0012 - val_loss: 0.0016\n",
      "Epoch 169/200\n",
      "462/462 [==============================] - 1s 2ms/step - loss: 0.0012 - val_loss: 0.0016\n",
      "Epoch 170/200\n",
      "462/462 [==============================] - 1s 2ms/step - loss: 0.0012 - val_loss: 0.0016\n",
      "Epoch 171/200\n",
      "462/462 [==============================] - 1s 2ms/step - loss: 0.0012 - val_loss: 0.0016\n",
      "Epoch 172/200\n",
      "462/462 [==============================] - 1s 2ms/step - loss: 0.0012 - val_loss: 0.0016\n",
      "Epoch 173/200\n",
      "462/462 [==============================] - 1s 2ms/step - loss: 0.0012 - val_loss: 0.0016\n",
      "Epoch 174/200\n",
      "462/462 [==============================] - 1s 2ms/step - loss: 0.0012 - val_loss: 0.0016\n",
      "Epoch 175/200\n",
      "462/462 [==============================] - 1s 2ms/step - loss: 0.0012 - val_loss: 0.0016\n",
      "Epoch 176/200\n",
      "462/462 [==============================] - 1s 2ms/step - loss: 0.0012 - val_loss: 0.0016\n",
      "Epoch 177/200\n",
      "462/462 [==============================] - 1s 2ms/step - loss: 0.0012 - val_loss: 0.0017\n",
      "Epoch 178/200\n",
      "462/462 [==============================] - 1s 2ms/step - loss: 0.0012 - val_loss: 0.0016\n"
     ]
    },
    {
     "data": {
      "text/plain": [
       "<keras.callbacks.History at 0x243d8ce3280>"
      ]
     },
     "execution_count": 95,
     "metadata": {},
     "output_type": "execute_result"
    }
   ],
   "source": [
    "callback = tf.keras.callbacks.EarlyStopping(monitor='val_loss', patience=10)\n",
    "autoencoder.fit(training_X, training_X,\n",
    "                epochs=200,\n",
    "                shuffle=True,\n",
    "                batch_size=16, \n",
    "                callbacks=[callback],\n",
    "                validation_data=(testing_X, testing_X))"
   ]
  },
  {
   "cell_type": "code",
   "execution_count": 97,
   "metadata": {},
   "outputs": [
    {
     "name": "stderr",
     "output_type": "stream",
     "text": [
      "<ipython-input-97-05a2f86b0dfb>:5: UserWarning: Boolean Series key will be reindexed to match DataFrame index.\n",
      "  CL_CT_data=CL_CT_data[data['DEATH [d from CT]']!=blank]\n"
     ]
    }
   ],
   "source": [
    "blank=6000\n",
    "data['DEATH [d from CT]']=data['DEATH [d from CT]'].fillna(blank)\n",
    "death=data['DEATH [d from CT]'][data['DEATH [d from CT]']!=blank]\n",
    "y = death.values\n",
    "CL_CT_data=CL_CT_data[data['DEATH [d from CT]']!=blank]\n",
    "X=CL_CT_data.values\n",
    "X=sc.transform(X)"
   ]
  },
  {
   "cell_type": "code",
   "execution_count": 99,
   "metadata": {},
   "outputs": [
    {
     "data": {
      "text/plain": [
       "(549,)"
      ]
     },
     "execution_count": 99,
     "metadata": {},
     "output_type": "execute_result"
    }
   ],
   "source": [
    "np.shape(y)"
   ]
  },
  {
   "cell_type": "code",
   "execution_count": 100,
   "metadata": {},
   "outputs": [],
   "source": [
    "encodedX=autoencoder.encoder(X).numpy()\n",
    "X_train, X_test ,y_train,y_test= train_test_split(encodedX, y,test_size = 0.2)"
   ]
  },
  {
   "cell_type": "code",
   "execution_count": 101,
   "metadata": {},
   "outputs": [],
   "source": [
    "def KNN(train_X,train_y,test_x,K):\n",
    "    dist=np.zeros(len(train_y))\n",
    "    for i in range(len(train_y)):\n",
    "        dist[i]=np.linalg.norm(test_x-train_X[i])\n",
    "    dist_ind=dist.argsort()[0:K]\n",
    "    y_lab=[]\n",
    "    for i in range(K):\n",
    "        y_lab.append(np.float64(train_y[dist_ind[i]]))\n",
    "    return(y_lab)"
   ]
  },
  {
   "cell_type": "code",
   "execution_count": 102,
   "metadata": {},
   "outputs": [
    {
     "data": {
      "text/plain": [
       "509.7836363636362"
      ]
     },
     "execution_count": 102,
     "metadata": {},
     "output_type": "execute_result"
    }
   ],
   "source": [
    "y_pred=[]\n",
    "y_lab=[]\n",
    "acc=[]\n",
    "kk=20\n",
    "for i in range(len(y_test)):\n",
    "    y_pred_all=KNN(X_train,y_train,X_test[i],kk)\n",
    "    y_pred.append(np.mean(y_pred_all))\n",
    "    y_lab.append(y_pred[i])\n",
    "    acc.append(y_lab[i]-y_test[i])\n",
    "np.absolute(acc).sum()/len(y_test)"
   ]
  },
  {
   "cell_type": "code",
   "execution_count": 103,
   "metadata": {},
   "outputs": [
    {
     "data": {
      "text/plain": [
       "{'whiskers': [<matplotlib.lines.Line2D at 0x243d8bfa8b0>,\n",
       "  <matplotlib.lines.Line2D at 0x243d8bfac10>],\n",
       " 'caps': [<matplotlib.lines.Line2D at 0x243d8bfaf70>,\n",
       "  <matplotlib.lines.Line2D at 0x243d8c8e310>],\n",
       " 'boxes': [<matplotlib.lines.Line2D at 0x243d8bfa550>],\n",
       " 'medians': [<matplotlib.lines.Line2D at 0x243d8c8e670>],\n",
       " 'fliers': [<matplotlib.lines.Line2D at 0x243d8c8e970>],\n",
       " 'means': []}"
      ]
     },
     "execution_count": 103,
     "metadata": {},
     "output_type": "execute_result"
    },
    {
     "data": {
      "image/png": "[encoded data removed]",
      "text/plain": [
       "<Figure size 432x288 with 1 Axes>"
      ]
     },
     "metadata": {
      "needs_background": "light"
     },
     "output_type": "display_data"
    }
   ],
   "source": [
    "CL_CT_data=pd.concat([CL_data,CT_data],axis=1)\n",
    "CL_CT_data_na=CL_CT_data[data['DEATH [d from CT]']==blank]\n",
    "X_na=CL_CT_data.values\n",
    "X_na=sc.transform(X_na)\n",
    "encodedX_na=autoencoder.encoder(X_na).numpy()\n",
    "y_pred_na=[]\n",
    "y_lab_na=[]\n",
    "acc_na=[]\n",
    "kk=20\n",
    "for i in range(np.shape(encodedX_na)[0]):\n",
    "    y_pred_all=KNN(encodedX,y,encodedX_na[i],kk)\n",
    "    y_pred_na.append(np.mean(y_pred_all))\n",
    "    y_lab_na.append(y_pred_na[i])\n",
    "    acc_na.append(y_lab_na[i]-X_na[i,0])\n",
    "plt.boxplot(acc_na)"
   ]
  },
  {
   "cell_type": "code",
   "execution_count": 104,
   "metadata": {},
   "outputs": [
    {
     "data": {
      "text/plain": [
       "[66.57499999999993]"
      ]
     },
     "execution_count": 104,
     "metadata": {},
     "output_type": "execute_result"
    }
   ],
   "source": [
    "[np.quantile(acc,0.5)]"
   ]
  },
  {
   "cell_type": "code",
   "execution_count": 105,
   "metadata": {},
   "outputs": [
    {
     "data": {
      "text/plain": [
       "{'whiskers': [<matplotlib.lines.Line2D at 0x243e5c2e7c0>,\n",
       "  <matplotlib.lines.Line2D at 0x243e5c2eb20>],\n",
       " 'caps': [<matplotlib.lines.Line2D at 0x243e5c2ee80>,\n",
       "  <matplotlib.lines.Line2D at 0x243e5c24220>],\n",
       " 'boxes': [<matplotlib.lines.Line2D at 0x243e5c2e460>],\n",
       " 'medians': [<matplotlib.lines.Line2D at 0x243e5c24580>],\n",
       " 'fliers': [<matplotlib.lines.Line2D at 0x243e5c24880>],\n",
       " 'means': []}"
      ]
     },
     "execution_count": 105,
     "metadata": {},
     "output_type": "execute_result"
    },
    {
     "data": {
      "image/png": "[encoded data removed]",
      "text/plain": [
       "<Figure size 432x288 with 1 Axes>"
      ]
     },
     "metadata": {
      "needs_background": "light"
     },
     "output_type": "display_data"
    }
   ],
   "source": [
    "plt.boxplot(np.absolute(acc))"
   ]
  }
 ],
 "metadata": {
  "interpreter": {
   "hash": "13f457fc9c733174e4480ab93c31bb27af2163be8665e63275895a21472bd25c"
  },
  "kernelspec": {
   "display_name": "Python 3.8.3",
   "language": "python",
   "name": "python3"
  },
  "language_info": {
   "codemirror_mode": {
    "name": "ipython",
    "version": 3
   },
   "file_extension": ".py",
   "mimetype": "text/x-python",
   "name": "python",
   "nbconvert_exporter": "python",
   "pygments_lexer": "ipython3",
   "version": "3.8.3"
  },
  "orig_nbformat": 4
 },
 "nbformat": 4,
 "nbformat_minor": 2
}
