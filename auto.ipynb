{
 "cells": [
  {
   "cell_type": "code",
   "execution_count": 1,
   "metadata": {},
   "outputs": [],
   "source": [
    "import matplotlib.pyplot as plt\n",
    "import numpy as np\n",
    "import pandas as pd\n",
    "import tensorflow as tf\n",
    "from sklearn.metrics import accuracy_score, precision_score, recall_score\n",
    "from sklearn.model_selection import train_test_split\n",
    "from tensorflow.keras import layers, losses\n",
    "from tensorflow.keras.datasets import fashion_mnist\n",
    "from tensorflow.keras.models import Model\n",
    "import matplotlib.pyplot as plt\n",
    "from sklearn.model_selection import train_test_split"
   ]
  },
  {
   "cell_type": "code",
   "execution_count": 2,
   "metadata": {},
   "outputs": [],
   "source": [
    "data = pd.read_excel('./OppScrData.xlsx', index_col=None)\n",
    "data=data[data.columns[0:52]]\n",
    "data.head()\n",
    "clinical_col=data.columns[0:14]\n",
    "outcome_col=data.columns[15:40]\n",
    "CT_col=data.columns[41:52]\n",
    "CT_data=data[CT_col]\n",
    "CT_data=CT_data.fillna(CT_data.mean())\n",
    "CT_data['Liver HU    (Median)']=pd.to_numeric(CT_data['Liver HU    (Median)'],errors='coerce')\n",
    "CT_data=CT_data.fillna(CT_data.mean())\n",
    "CT_data=CT_data.astype(float)"
   ]
  },
  {
   "cell_type": "code",
   "execution_count": 3,
   "metadata": {},
   "outputs": [],
   "source": [
    "CL_data=data[clinical_col]\n",
    "CL_data=CL_data.drop(columns=['Record ID', 'Visit ID', 'PT ID','BMI >30', 'Met Sx'])\n",
    "CL_data['BMI']=CL_data['BMI'].fillna(CL_data['BMI'].mean())\n",
    "(CL_data['Tobacco']=='Yes').sum()/len(CL_data)\n",
    "CL_data['Tobacco']=CL_data['Tobacco'].fillna('No')\n",
    "CL_data['Alcohol abuse']=CL_data['Alcohol abuse'].fillna(0)\n",
    "CL_data['Alcohol abuse']=CL_data['Alcohol abuse'].apply(lambda x: 1 if x!=0 else 0)\n",
    "for i in ['Sex','Tobacco']:\n",
    "    CL_data[i] = pd.factorize(CL_data[i])[0] + 1\n",
    "CL_data['FRS 10-year risk (%)']=CL_data['FRS 10-year risk (%)'].apply(lambda x: 0.01 if x=='<1%' else x)\n",
    "CL_data['FRS 10-year risk (%)']=CL_data['FRS 10-year risk (%)'].apply(lambda x: 0.3 if x=='>30%' else x)\n",
    "CL_data['FRS 10-year risk (%)']=CL_data['FRS 10-year risk (%)'].apply(lambda x: 0 if x=='X' else x)\n",
    "for i in ['FRS 10-year risk (%)','FRAX 10y Fx Prob (Orange-w/ DXA)','FRAX 10y Hip Fx Prob (Orange-w/ DXA)']:\n",
    "    CL_data[i]=pd.to_numeric(CL_data[i],errors='coerce')\n",
    "    CL_data[i]=CL_data[i].fillna(CL_data[i].mean())\n",
    "CL_CT_data=pd.concat([CL_data,CT_data],axis=1)"
   ]
  },
  {
   "cell_type": "code",
   "execution_count": 4,
   "metadata": {},
   "outputs": [],
   "source": [
    "X = CL_CT_data.values\n",
    "training_X, testing_X = train_test_split(X, test_size = 0.2)\n",
    "from sklearn.preprocessing import MinMaxScaler\n",
    "sc = MinMaxScaler()\n",
    "training_X = sc.fit_transform(training_X)\n",
    "testing_X = sc.transform(testing_X)"
   ]
  },
  {
   "cell_type": "code",
   "execution_count": 5,
   "metadata": {},
   "outputs": [
    {
     "name": "stdout",
     "output_type": "stream",
     "text": [
      "(7378, 20)\n",
      "(1845, 20)\n"
     ]
    }
   ],
   "source": [
    "print (training_X.shape)\n",
    "print (testing_X.shape)"
   ]
  },
  {
   "cell_type": "code",
   "execution_count": 6,
   "metadata": {},
   "outputs": [],
   "source": [
    "latent_dim = 6\n",
    "\n",
    "class Autoencoder(Model):\n",
    "  def __init__(self, latent_dim):\n",
    "    super(Autoencoder, self).__init__()\n",
    "    self.latent_dim = latent_dim   \n",
    "    self.encoder = tf.keras.Sequential([\n",
    "      layers.Dense(16, activation='relu'),\n",
    "      layers.Dense(8, activation='tanh'),\n",
    "      layers.Dense(latent_dim, activation='relu'),\n",
    "    ])\n",
    "    self.decoder = tf.keras.Sequential([\n",
    "      layers.Dense(8, activation='tanh'),\n",
    "      layers.Dense(16, activation='relu'),\n",
    "      layers.Dense(np.size(X,1), activation='sigmoid')\n",
    "    ])\n",
    "\n",
    "  def call(self, x):\n",
    "    encoded = self.encoder(x)\n",
    "    decoded = self.decoder(encoded)\n",
    "    return decoded\n",
    "\n",
    "autoencoder = Autoencoder(latent_dim)"
   ]
  },
  {
   "cell_type": "code",
   "execution_count": 7,
   "metadata": {},
   "outputs": [],
   "source": [
    "autoencoder.compile(optimizer='adam', loss=losses.MeanSquaredError())"
   ]
  },
  {
   "cell_type": "code",
   "execution_count": 8,
   "metadata": {},
   "outputs": [
    {
     "name": "stdout",
     "output_type": "stream",
     "text": [
      "Epoch 1/200\n",
      "462/462 [==============================] - 1s 2ms/step - loss: 0.0394 - val_loss: 0.0225\n",
      "Epoch 2/200\n",
      "462/462 [==============================] - 1s 1ms/step - loss: 0.0150 - val_loss: 0.0124\n",
      "Epoch 3/200\n",
      "462/462 [==============================] - 1s 2ms/step - loss: 0.0104 - val_loss: 0.0092\n",
      "Epoch 4/200\n",
      "462/462 [==============================] - 1s 1ms/step - loss: 0.0083 - val_loss: 0.0077\n",
      "Epoch 5/200\n",
      "462/462 [==============================] - 1s 1ms/step - loss: 0.0063 - val_loss: 0.0058\n",
      "Epoch 6/200\n",
      "462/462 [==============================] - 1s 1ms/step - loss: 0.0052 - val_loss: 0.0054\n",
      "Epoch 7/200\n",
      "462/462 [==============================] - 1s 1ms/step - loss: 0.0049 - val_loss: 0.0052\n",
      "Epoch 8/200\n",
      "462/462 [==============================] - 1s 1ms/step - loss: 0.0047 - val_loss: 0.0050\n",
      "Epoch 9/200\n",
      "462/462 [==============================] - 1s 1ms/step - loss: 0.0046 - val_loss: 0.0049\n",
      "Epoch 10/200\n",
      "462/462 [==============================] - 1s 1ms/step - loss: 0.0045 - val_loss: 0.0047\n",
      "Epoch 11/200\n",
      "462/462 [==============================] - 1s 1ms/step - loss: 0.0040 - val_loss: 0.0038\n",
      "Epoch 12/200\n",
      "462/462 [==============================] - 1s 1ms/step - loss: 0.0034 - val_loss: 0.0034\n",
      "Epoch 13/200\n",
      "462/462 [==============================] - 1s 1ms/step - loss: 0.0031 - val_loss: 0.0032\n",
      "Epoch 14/200\n",
      "462/462 [==============================] - 1s 1ms/step - loss: 0.0028 - val_loss: 0.0030\n",
      "Epoch 15/200\n",
      "462/462 [==============================] - 1s 1ms/step - loss: 0.0027 - val_loss: 0.0028\n",
      "Epoch 16/200\n",
      "462/462 [==============================] - 1s 2ms/step - loss: 0.0025 - val_loss: 0.0027\n",
      "Epoch 17/200\n",
      "462/462 [==============================] - 1s 1ms/step - loss: 0.0024 - val_loss: 0.0026\n",
      "Epoch 18/200\n",
      "462/462 [==============================] - 1s 1ms/step - loss: 0.0023 - val_loss: 0.0025\n",
      "Epoch 19/200\n",
      "462/462 [==============================] - 1s 1ms/step - loss: 0.0022 - val_loss: 0.0024\n",
      "Epoch 20/200\n",
      "462/462 [==============================] - 1s 1ms/step - loss: 0.0022 - val_loss: 0.0024\n",
      "Epoch 21/200\n",
      "462/462 [==============================] - 1s 1ms/step - loss: 0.0021 - val_loss: 0.0023\n",
      "Epoch 22/200\n",
      "462/462 [==============================] - 1s 1ms/step - loss: 0.0021 - val_loss: 0.0023\n",
      "Epoch 23/200\n",
      "462/462 [==============================] - 1s 2ms/step - loss: 0.0020 - val_loss: 0.0023\n",
      "Epoch 24/200\n",
      "462/462 [==============================] - 1s 1ms/step - loss: 0.0020 - val_loss: 0.0022\n",
      "Epoch 25/200\n",
      "462/462 [==============================] - 1s 2ms/step - loss: 0.0020 - val_loss: 0.0022\n",
      "Epoch 26/200\n",
      "462/462 [==============================] - 1s 2ms/step - loss: 0.0019 - val_loss: 0.0022\n",
      "Epoch 27/200\n",
      "462/462 [==============================] - 1s 2ms/step - loss: 0.0019 - val_loss: 0.0021\n",
      "Epoch 28/200\n",
      "462/462 [==============================] - 1s 1ms/step - loss: 0.0018 - val_loss: 0.0021\n",
      "Epoch 29/200\n",
      "462/462 [==============================] - 1s 2ms/step - loss: 0.0018 - val_loss: 0.0020\n",
      "Epoch 30/200\n",
      "462/462 [==============================] - 1s 1ms/step - loss: 0.0018 - val_loss: 0.0020\n",
      "Epoch 31/200\n",
      "462/462 [==============================] - 1s 1ms/step - loss: 0.0017 - val_loss: 0.0020\n",
      "Epoch 32/200\n",
      "462/462 [==============================] - 1s 1ms/step - loss: 0.0017 - val_loss: 0.0020\n",
      "Epoch 33/200\n",
      "462/462 [==============================] - 1s 1ms/step - loss: 0.0017 - val_loss: 0.0019\n",
      "Epoch 34/200\n",
      "462/462 [==============================] - 1s 1ms/step - loss: 0.0017 - val_loss: 0.0019\n",
      "Epoch 35/200\n",
      "462/462 [==============================] - 1s 1ms/step - loss: 0.0017 - val_loss: 0.0019\n",
      "Epoch 36/200\n",
      "462/462 [==============================] - 1s 1ms/step - loss: 0.0017 - val_loss: 0.0019\n",
      "Epoch 37/200\n",
      "462/462 [==============================] - 1s 2ms/step - loss: 0.0016 - val_loss: 0.0019\n",
      "Epoch 38/200\n",
      "462/462 [==============================] - 1s 1ms/step - loss: 0.0016 - val_loss: 0.0019\n",
      "Epoch 39/200\n",
      "462/462 [==============================] - 1s 1ms/step - loss: 0.0016 - val_loss: 0.0019\n",
      "Epoch 40/200\n",
      "462/462 [==============================] - 1s 1ms/step - loss: 0.0016 - val_loss: 0.0018\n",
      "Epoch 41/200\n",
      "462/462 [==============================] - 1s 1ms/step - loss: 0.0016 - val_loss: 0.0018\n",
      "Epoch 42/200\n",
      "462/462 [==============================] - 1s 1ms/step - loss: 0.0016 - val_loss: 0.0018\n",
      "Epoch 43/200\n",
      "462/462 [==============================] - 1s 1ms/step - loss: 0.0015 - val_loss: 0.0018\n",
      "Epoch 44/200\n",
      "462/462 [==============================] - 1s 1ms/step - loss: 0.0015 - val_loss: 0.0018\n",
      "Epoch 45/200\n",
      "462/462 [==============================] - 1s 2ms/step - loss: 0.0015 - val_loss: 0.0017\n",
      "Epoch 46/200\n",
      "462/462 [==============================] - 1s 1ms/step - loss: 0.0015 - val_loss: 0.0017\n",
      "Epoch 47/200\n",
      "462/462 [==============================] - 1s 1ms/step - loss: 0.0015 - val_loss: 0.0019\n",
      "Epoch 48/200\n",
      "462/462 [==============================] - 1s 1ms/step - loss: 0.0014 - val_loss: 0.0016\n",
      "Epoch 49/200\n",
      "462/462 [==============================] - 1s 1ms/step - loss: 0.0014 - val_loss: 0.0017\n",
      "Epoch 50/200\n",
      "462/462 [==============================] - 1s 1ms/step - loss: 0.0013 - val_loss: 0.0016\n",
      "Epoch 51/200\n",
      "462/462 [==============================] - 1s 1ms/step - loss: 0.0013 - val_loss: 0.0016\n",
      "Epoch 52/200\n",
      "462/462 [==============================] - 1s 2ms/step - loss: 0.0013 - val_loss: 0.0016\n",
      "Epoch 53/200\n",
      "462/462 [==============================] - 1s 1ms/step - loss: 0.0013 - val_loss: 0.0015\n",
      "Epoch 54/200\n",
      "462/462 [==============================] - 1s 1ms/step - loss: 0.0013 - val_loss: 0.0016\n",
      "Epoch 55/200\n",
      "462/462 [==============================] - 1s 1ms/step - loss: 0.0012 - val_loss: 0.0015\n",
      "Epoch 56/200\n",
      "462/462 [==============================] - 1s 1ms/step - loss: 0.0012 - val_loss: 0.0016\n",
      "Epoch 57/200\n",
      "462/462 [==============================] - 1s 1ms/step - loss: 0.0012 - val_loss: 0.0015\n",
      "Epoch 58/200\n",
      "462/462 [==============================] - 1s 2ms/step - loss: 0.0012 - val_loss: 0.0015\n",
      "Epoch 59/200\n",
      "462/462 [==============================] - 1s 2ms/step - loss: 0.0012 - val_loss: 0.0015\n",
      "Epoch 60/200\n",
      "462/462 [==============================] - 1s 1ms/step - loss: 0.0012 - val_loss: 0.0015\n",
      "Epoch 61/200\n",
      "462/462 [==============================] - 1s 1ms/step - loss: 0.0012 - val_loss: 0.0015\n",
      "Epoch 62/200\n",
      "462/462 [==============================] - 1s 2ms/step - loss: 0.0012 - val_loss: 0.0016\n",
      "Epoch 63/200\n",
      "462/462 [==============================] - 1s 1ms/step - loss: 0.0012 - val_loss: 0.0015\n",
      "Epoch 64/200\n",
      "462/462 [==============================] - 1s 1ms/step - loss: 0.0012 - val_loss: 0.0015\n",
      "Epoch 65/200\n",
      "462/462 [==============================] - 1s 1ms/step - loss: 0.0012 - val_loss: 0.0015\n",
      "Epoch 66/200\n",
      "462/462 [==============================] - 1s 1ms/step - loss: 0.0012 - val_loss: 0.0014\n",
      "Epoch 67/200\n",
      "462/462 [==============================] - 1s 1ms/step - loss: 0.0012 - val_loss: 0.0014\n",
      "Epoch 68/200\n",
      "462/462 [==============================] - 1s 1ms/step - loss: 0.0012 - val_loss: 0.0015\n",
      "Epoch 69/200\n",
      "462/462 [==============================] - 1s 1ms/step - loss: 0.0012 - val_loss: 0.0015\n",
      "Epoch 70/200\n",
      "462/462 [==============================] - 1s 1ms/step - loss: 0.0012 - val_loss: 0.0014\n",
      "Epoch 71/200\n",
      "462/462 [==============================] - 1s 1ms/step - loss: 0.0011 - val_loss: 0.0014\n",
      "Epoch 72/200\n",
      "462/462 [==============================] - 1s 1ms/step - loss: 0.0011 - val_loss: 0.0014\n",
      "Epoch 73/200\n",
      "462/462 [==============================] - 1s 1ms/step - loss: 0.0011 - val_loss: 0.0014\n",
      "Epoch 74/200\n",
      "462/462 [==============================] - 1s 1ms/step - loss: 0.0011 - val_loss: 0.0014\n",
      "Epoch 75/200\n",
      "462/462 [==============================] - 1s 1ms/step - loss: 0.0011 - val_loss: 0.0015\n",
      "Epoch 76/200\n",
      "462/462 [==============================] - 1s 2ms/step - loss: 0.0011 - val_loss: 0.0014\n",
      "Epoch 77/200\n",
      "462/462 [==============================] - 1s 1ms/step - loss: 0.0011 - val_loss: 0.0014\n",
      "Epoch 78/200\n",
      "462/462 [==============================] - 1s 1ms/step - loss: 0.0011 - val_loss: 0.0014\n",
      "Epoch 79/200\n",
      "462/462 [==============================] - 1s 1ms/step - loss: 0.0011 - val_loss: 0.0014\n",
      "Epoch 80/200\n",
      "462/462 [==============================] - 1s 1ms/step - loss: 0.0011 - val_loss: 0.0014\n",
      "Epoch 81/200\n",
      "462/462 [==============================] - 1s 1ms/step - loss: 0.0011 - val_loss: 0.0016\n",
      "Epoch 82/200\n",
      "462/462 [==============================] - 1s 1ms/step - loss: 0.0011 - val_loss: 0.0014\n",
      "Epoch 83/200\n",
      "462/462 [==============================] - 1s 1ms/step - loss: 0.0011 - val_loss: 0.0014\n",
      "Epoch 84/200\n",
      "462/462 [==============================] - 1s 1ms/step - loss: 0.0011 - val_loss: 0.0014\n",
      "Epoch 85/200\n",
      "462/462 [==============================] - 1s 1ms/step - loss: 0.0011 - val_loss: 0.0014\n",
      "Epoch 86/200\n",
      "462/462 [==============================] - 1s 1ms/step - loss: 0.0011 - val_loss: 0.0015\n",
      "Epoch 87/200\n",
      "462/462 [==============================] - 1s 1ms/step - loss: 0.0011 - val_loss: 0.0014\n",
      "Epoch 88/200\n",
      "462/462 [==============================] - 1s 1ms/step - loss: 0.0011 - val_loss: 0.0014\n",
      "Epoch 89/200\n",
      "462/462 [==============================] - 1s 1ms/step - loss: 0.0011 - val_loss: 0.0014\n",
      "Epoch 90/200\n",
      "462/462 [==============================] - 1s 1ms/step - loss: 0.0011 - val_loss: 0.0014\n",
      "Epoch 91/200\n",
      "462/462 [==============================] - 1s 1ms/step - loss: 0.0011 - val_loss: 0.0014\n",
      "Epoch 92/200\n",
      "462/462 [==============================] - 1s 1ms/step - loss: 0.0011 - val_loss: 0.0014\n",
      "Epoch 93/200\n",
      "462/462 [==============================] - 1s 1ms/step - loss: 0.0011 - val_loss: 0.0015\n",
      "Epoch 94/200\n",
      "462/462 [==============================] - 1s 1ms/step - loss: 0.0011 - val_loss: 0.0014\n",
      "Epoch 95/200\n",
      "462/462 [==============================] - 1s 1ms/step - loss: 0.0011 - val_loss: 0.0014\n",
      "Epoch 96/200\n",
      "462/462 [==============================] - 1s 1ms/step - loss: 0.0011 - val_loss: 0.0014\n",
      "Epoch 97/200\n",
      "462/462 [==============================] - 1s 1ms/step - loss: 0.0011 - val_loss: 0.0014\n",
      "Epoch 98/200\n",
      "462/462 [==============================] - 1s 1ms/step - loss: 0.0011 - val_loss: 0.0014\n",
      "Epoch 99/200\n",
      "462/462 [==============================] - 1s 1ms/step - loss: 0.0011 - val_loss: 0.0014\n"
     ]
    },
    {
     "data": {
      "text/plain": [
       "<keras.callbacks.History at 0x243d87e4b80>"
      ]
     },
     "execution_count": 8,
     "metadata": {},
     "output_type": "execute_result"
    }
   ],
   "source": [
    "callback = tf.keras.callbacks.EarlyStopping(monitor='val_loss', patience=10)\n",
    "autoencoder.fit(training_X, training_X,\n",
    "                epochs=200,\n",
    "                shuffle=True,\n",
    "                batch_size=16, \n",
    "                callbacks=[callback],\n",
    "                validation_data=(testing_X, testing_X))"
   ]
  },
  {
   "cell_type": "code",
   "execution_count": 9,
   "metadata": {},
   "outputs": [],
   "source": [
    "blank=6000\n",
    "data['DEATH [d from CT]']=data['DEATH [d from CT]'].fillna(blank)\n",
    "death=data['DEATH [d from CT]'][data['DEATH [d from CT]']!=blank]\n",
    "y = death.values\n",
    "CL_CT_data=CL_CT_data[data['DEATH [d from CT]']!=blank]\n",
    "X=CL_CT_data.values\n",
    "X=sc.transform(X)"
   ]
  },
  {
   "cell_type": "code",
   "execution_count": 10,
   "metadata": {},
   "outputs": [],
   "source": [
    "encodedX=autoencoder.encoder(X).numpy()\n",
    "X_train, X_test ,y_train,y_test= train_test_split(encodedX, y,test_size = 0.2)"
   ]
  },
  {
   "cell_type": "code",
   "execution_count": 11,
   "metadata": {},
   "outputs": [],
   "source": [
    "def KNN(train_X,train_y,test_x,K):\n",
    "    dist=np.zeros(len(train_y))\n",
    "    for i in range(len(train_y)):\n",
    "        dist[i]=np.linalg.norm(test_x-train_X[i])\n",
    "    dist_ind=dist.argsort()[0:K]\n",
    "    y_lab=[]\n",
    "    for i in range(K):\n",
    "        y_lab.append(np.float64(train_y[dist_ind[i]]))\n",
    "    return(y_lab)"
   ]
  },
  {
   "cell_type": "code",
   "execution_count": 12,
   "metadata": {},
   "outputs": [
    {
     "data": {
      "text/plain": [
       "570.3240909090908"
      ]
     },
     "execution_count": 12,
     "metadata": {},
     "output_type": "execute_result"
    }
   ],
   "source": [
    "y_pred=[]\n",
    "y_lab=[]\n",
    "acc=[]\n",
    "kk=20\n",
    "for i in range(len(y_test)):\n",
    "    y_pred_all=KNN(X_train,y_train,X_test[i],kk)\n",
    "    y_pred.append(np.mean(y_pred_all))\n",
    "    y_lab.append(y_pred[i])\n",
    "    acc.append(y_lab[i]-y_test[i])\n",
    "np.absolute(acc).sum()/len(y_test)"
   ]
  },
  {
   "cell_type": "code",
   "execution_count": 13,
   "metadata": {},
   "outputs": [
    {
     "data": {
      "text/plain": [
       "[161.70000000000005]"
      ]
     },
     "execution_count": 13,
     "metadata": {},
     "output_type": "execute_result"
    }
   ],
   "source": [
    "[np.quantile(acc,0.5)]"
   ]
  },
  {
   "cell_type": "code",
   "execution_count": 14,
   "metadata": {},
   "outputs": [
    {
     "data": {
      "text/plain": [
       "{'whiskers': [<matplotlib.lines.Line2D at 0x243da6b92b0>,\n",
       "  <matplotlib.lines.Line2D at 0x243da6b9610>],\n",
       " 'caps': [<matplotlib.lines.Line2D at 0x243da6b9970>,\n",
       "  <matplotlib.lines.Line2D at 0x243da6b9cd0>],\n",
       " 'boxes': [<matplotlib.lines.Line2D at 0x243dbb1bf10>],\n",
       " 'medians': [<matplotlib.lines.Line2D at 0x243da6c9070>],\n",
       " 'fliers': [<matplotlib.lines.Line2D at 0x243da6c9370>],\n",
       " 'means': []}"
      ]
     },
     "execution_count": 14,
     "metadata": {},
     "output_type": "execute_result"
    },
    {
     "data": {
      "image/png": "[encoded data removed]",
      "text/plain": [
       "<Figure size 432x288 with 1 Axes>"
      ]
     },
     "metadata": {
      "needs_background": "light"
     },
     "output_type": "display_data"
    }
   ],
   "source": [
    "plt.boxplot(np.absolute(acc))"
   ]
  }
 ],
 "metadata": {
  "interpreter": {
   "hash": "13f457fc9c733174e4480ab93c31bb27af2163be8665e63275895a21472bd25c"
  },
  "kernelspec": {
   "display_name": "Python 3.8.3",
   "language": "python",
   "name": "python3"
  },
  "language_info": {
   "codemirror_mode": {
    "name": "ipython",
    "version": 3
   },
   "file_extension": ".py",
   "mimetype": "text/x-python",
   "name": "python",
   "nbconvert_exporter": "python",
   "pygments_lexer": "ipython3",
   "version": "3.8.3"
  },
  "orig_nbformat": 4
 },
 "nbformat": 4,
 "nbformat_minor": 2
}
