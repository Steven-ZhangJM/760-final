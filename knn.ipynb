{
 "cells": [
  {
   "cell_type": "code",
   "execution_count": 245,
   "metadata": {},
   "outputs": [],
   "source": [
    "import pandas as pd\n",
    "import numpy as np\n",
    "import matplotlib.pyplot as plt\n",
    "from sklearn.model_selection import train_test_split"
   ]
  },
  {
   "cell_type": "code",
   "execution_count": 246,
   "metadata": {},
   "outputs": [
    {
     "data": {
      "text/html": [
       "<div>\n",
       "<style scoped>\n",
       "    .dataframe tbody tr th:only-of-type {\n",
       "        vertical-align: middle;\n",
       "    }\n",
       "\n",
       "    .dataframe tbody tr th {\n",
       "        vertical-align: top;\n",
       "    }\n",
       "\n",
       "    .dataframe thead th {\n",
       "        text-align: right;\n",
       "    }\n",
       "</style>\n",
       "<table border=\"1\" class=\"dataframe\">\n",
       "  <thead>\n",
       "    <tr style=\"text-align: right;\">\n",
       "      <th></th>\n",
       "      <th>Record ID</th>\n",
       "      <th>Visit ID</th>\n",
       "      <th>PT ID</th>\n",
       "      <th>Clinical F/U interval  [d from CT]</th>\n",
       "      <th>BMI</th>\n",
       "      <th>BMI &gt;30</th>\n",
       "      <th>Sex</th>\n",
       "      <th>Age at CT</th>\n",
       "      <th>Tobacco</th>\n",
       "      <th>Alcohol abuse</th>\n",
       "      <th>...</th>\n",
       "      <th>TAT Area (cm2)</th>\n",
       "      <th>Total Body                Area EA (cm2)</th>\n",
       "      <th>VAT Area (cm2)</th>\n",
       "      <th>SAT Area (cm2)</th>\n",
       "      <th>VAT/SAT     Ratio</th>\n",
       "      <th>Muscle HU</th>\n",
       "      <th>Muscle Area (cm2)</th>\n",
       "      <th>L3 SMI (cm2/m2)</th>\n",
       "      <th>AoCa        Agatston</th>\n",
       "      <th>Liver HU    (Median)</th>\n",
       "    </tr>\n",
       "  </thead>\n",
       "  <tbody>\n",
       "    <tr>\n",
       "      <th>0</th>\n",
       "      <td>8675</td>\n",
       "      <td>415</td>\n",
       "      <td>6669</td>\n",
       "      <td>907</td>\n",
       "      <td>37.7</td>\n",
       "      <td>Y</td>\n",
       "      <td>Male</td>\n",
       "      <td>73</td>\n",
       "      <td>NaN</td>\n",
       "      <td>NaN</td>\n",
       "      <td>...</td>\n",
       "      <td>NaN</td>\n",
       "      <td>NaN</td>\n",
       "      <td>NaN</td>\n",
       "      <td>NaN</td>\n",
       "      <td>NaN</td>\n",
       "      <td>18.242557</td>\n",
       "      <td>170.053192</td>\n",
       "      <td>58.717526</td>\n",
       "      <td>5473.561</td>\n",
       "      <td>35</td>\n",
       "    </tr>\n",
       "    <tr>\n",
       "      <th>1</th>\n",
       "      <td>2236</td>\n",
       "      <td>525</td>\n",
       "      <td>2915</td>\n",
       "      <td>359</td>\n",
       "      <td>30.1</td>\n",
       "      <td>Y</td>\n",
       "      <td>Female</td>\n",
       "      <td>55</td>\n",
       "      <td>NaN</td>\n",
       "      <td>NaN</td>\n",
       "      <td>...</td>\n",
       "      <td>485.502857</td>\n",
       "      <td>694.314286</td>\n",
       "      <td>183.497143</td>\n",
       "      <td>302.008571</td>\n",
       "      <td>0.607589</td>\n",
       "      <td>16.150123</td>\n",
       "      <td>123.968745</td>\n",
       "      <td>48.413187</td>\n",
       "      <td>2709.064</td>\n",
       "      <td>52</td>\n",
       "    </tr>\n",
       "    <tr>\n",
       "      <th>2</th>\n",
       "      <td>5962</td>\n",
       "      <td>542</td>\n",
       "      <td>5321</td>\n",
       "      <td>412</td>\n",
       "      <td>28.1</td>\n",
       "      <td>N</td>\n",
       "      <td>Female</td>\n",
       "      <td>52</td>\n",
       "      <td>NaN</td>\n",
       "      <td>NaN</td>\n",
       "      <td>...</td>\n",
       "      <td>490.054545</td>\n",
       "      <td>706.051515</td>\n",
       "      <td>159.706061</td>\n",
       "      <td>330.348485</td>\n",
       "      <td>0.483447</td>\n",
       "      <td>23.337964</td>\n",
       "      <td>136.566261</td>\n",
       "      <td>50.101332</td>\n",
       "      <td>0.000</td>\n",
       "      <td>54</td>\n",
       "    </tr>\n",
       "    <tr>\n",
       "      <th>3</th>\n",
       "      <td>665</td>\n",
       "      <td>546</td>\n",
       "      <td>1934</td>\n",
       "      <td>2333</td>\n",
       "      <td>25.0</td>\n",
       "      <td>N</td>\n",
       "      <td>Male</td>\n",
       "      <td>60</td>\n",
       "      <td>Yes</td>\n",
       "      <td>NaN</td>\n",
       "      <td>...</td>\n",
       "      <td>289.108108</td>\n",
       "      <td>584.489189</td>\n",
       "      <td>144.002703</td>\n",
       "      <td>145.102703</td>\n",
       "      <td>0.992419</td>\n",
       "      <td>30.804567</td>\n",
       "      <td>212.296726</td>\n",
       "      <td>69.115854</td>\n",
       "      <td>2586.575</td>\n",
       "      <td>57</td>\n",
       "    </tr>\n",
       "    <tr>\n",
       "      <th>4</th>\n",
       "      <td>478</td>\n",
       "      <td>580</td>\n",
       "      <td>1817</td>\n",
       "      <td>532</td>\n",
       "      <td>22.4</td>\n",
       "      <td>N</td>\n",
       "      <td>Male</td>\n",
       "      <td>88</td>\n",
       "      <td>Yes</td>\n",
       "      <td>NaN</td>\n",
       "      <td>...</td>\n",
       "      <td>315.530769</td>\n",
       "      <td>588.892308</td>\n",
       "      <td>202.317949</td>\n",
       "      <td>113.212821</td>\n",
       "      <td>1.787059</td>\n",
       "      <td>-3.181874</td>\n",
       "      <td>168.923950</td>\n",
       "      <td>47.814581</td>\n",
       "      <td>431.519</td>\n",
       "      <td>53</td>\n",
       "    </tr>\n",
       "  </tbody>\n",
       "</table>\n",
       "<p>5 rows × 52 columns</p>\n",
       "</div>"
      ],
      "text/plain": [
       "   Record ID  Visit ID  PT ID  Clinical F/U interval  [d from CT]   BMI  \\\n",
       "0       8675       415   6669                                 907  37.7   \n",
       "1       2236       525   2915                                 359  30.1   \n",
       "2       5962       542   5321                                 412  28.1   \n",
       "3        665       546   1934                                2333  25.0   \n",
       "4        478       580   1817                                 532  22.4   \n",
       "\n",
       "  BMI >30     Sex  Age at CT Tobacco Alcohol abuse  ... TAT Area (cm2)  \\\n",
       "0       Y    Male         73     NaN           NaN  ...            NaN   \n",
       "1       Y  Female         55     NaN           NaN  ...     485.502857   \n",
       "2       N  Female         52     NaN           NaN  ...     490.054545   \n",
       "3       N    Male         60     Yes           NaN  ...     289.108108   \n",
       "4       N    Male         88     Yes           NaN  ...     315.530769   \n",
       "\n",
       "  Total Body                Area EA (cm2) VAT Area (cm2) SAT Area (cm2)  \\\n",
       "0                                     NaN            NaN            NaN   \n",
       "1                              694.314286     183.497143     302.008571   \n",
       "2                              706.051515     159.706061     330.348485   \n",
       "3                              584.489189     144.002703     145.102703   \n",
       "4                              588.892308     202.317949     113.212821   \n",
       "\n",
       "   VAT/SAT     Ratio  Muscle HU  Muscle Area (cm2)  L3 SMI (cm2/m2)  \\\n",
       "0                NaN  18.242557         170.053192        58.717526   \n",
       "1           0.607589  16.150123         123.968745        48.413187   \n",
       "2           0.483447  23.337964         136.566261        50.101332   \n",
       "3           0.992419  30.804567         212.296726        69.115854   \n",
       "4           1.787059  -3.181874         168.923950        47.814581   \n",
       "\n",
       "  AoCa        Agatston  Liver HU    (Median)  \n",
       "0             5473.561                    35  \n",
       "1             2709.064                    52  \n",
       "2                0.000                    54  \n",
       "3             2586.575                    57  \n",
       "4              431.519                    53  \n",
       "\n",
       "[5 rows x 52 columns]"
      ]
     },
     "execution_count": 246,
     "metadata": {},
     "output_type": "execute_result"
    }
   ],
   "source": [
    "data = pd.read_excel('./OppScrData.xlsx', index_col=None)\n",
    "data=data[data.columns[0:52]]\n",
    "data.head()"
   ]
  },
  {
   "cell_type": "code",
   "execution_count": 247,
   "metadata": {},
   "outputs": [],
   "source": [
    "clinical_col=data.columns[0:14]\n",
    "outcome_col=data.columns[15:40]\n",
    "CT_col=data.columns[41:52]"
   ]
  },
  {
   "cell_type": "code",
   "execution_count": 248,
   "metadata": {},
   "outputs": [],
   "source": [
    "CT_data=data[CT_col]\n",
    "CT_data=CT_data.fillna(CT_data.mean())\n",
    "CT_data['Liver HU    (Median)']=pd.to_numeric(CT_data['Liver HU    (Median)'],errors='coerce')"
   ]
  },
  {
   "cell_type": "code",
   "execution_count": 249,
   "metadata": {},
   "outputs": [],
   "source": [
    "CT_data=CT_data.astype(float)"
   ]
  },
  {
   "cell_type": "markdown",
   "metadata": {},
   "source": [
    "Fill blank with large number. First classify 'blank or not'."
   ]
  },
  {
   "cell_type": "code",
   "execution_count": 250,
   "metadata": {},
   "outputs": [],
   "source": [
    "blank=5000\n",
    "data['DEATH [d from CT]']=data['DEATH [d from CT]'].fillna(blank)\n",
    "death=data['DEATH [d from CT]']"
   ]
  },
  {
   "cell_type": "code",
   "execution_count": 251,
   "metadata": {},
   "outputs": [],
   "source": [
    "X = CT_data.values\n",
    "y = death.values"
   ]
  },
  {
   "cell_type": "code",
   "execution_count": 252,
   "metadata": {},
   "outputs": [],
   "source": [
    "def KNN(train_X,train_y,test_x,K):\n",
    "    dist=np.zeros(len(train_y))\n",
    "    for i in range(len(train_y)):\n",
    "        dist[i]=np.linalg.norm(test_x-train_X[i])\n",
    "    dist_ind=dist.argsort()[0:K]\n",
    "    y_lab=[]\n",
    "    for i in range(K):\n",
    "        y_lab.append(np.float64(train_y[dist_ind[i]]))\n",
    "    return(y_lab)"
   ]
  },
  {
   "cell_type": "code",
   "execution_count": 253,
   "metadata": {},
   "outputs": [],
   "source": [
    "training_X, testing_X, training_y, testing_y = train_test_split(X, y, test_size = 0.2)\n",
    "from sklearn.preprocessing import MinMaxScaler\n",
    "sc = MinMaxScaler()\n",
    "training_X = sc.fit_transform(training_X)\n",
    "testing_X = sc.transform(testing_X)"
   ]
  },
  {
   "cell_type": "code",
   "execution_count": 254,
   "metadata": {},
   "outputs": [
    {
     "data": {
      "text/plain": [
       "172.4979403794038"
      ]
     },
     "execution_count": 254,
     "metadata": {},
     "output_type": "execute_result"
    }
   ],
   "source": [
    "y_pred=[]\n",
    "y_lab=[]\n",
    "num_na=[]\n",
    "acc=[]\n",
    "kk=20\n",
    "for i in range(len(testing_y)):\n",
    "    y_pred_all=KNN(training_X,training_y,testing_X[i],kk)\n",
    "    y_pred.append(np.mean(y_pred_all))\n",
    "    num_na.append((np.array(y_pred_all)==blank).sum())\n",
    "    if num_na[i]>kk/2: y_pred[i]=blank\n",
    "    y_lab.append(y_pred[i])\n",
    "    acc.append(y_lab[i]-testing_y[i])\n",
    "np.absolute(acc).sum()/len(testing_y)"
   ]
  },
  {
   "cell_type": "markdown",
   "metadata": {},
   "source": [
    "blank=8000: mae=296\n",
    "<br>blank=6000: mae=170\n",
    "<br>blank=5000: mae=172"
   ]
  },
  {
   "cell_type": "markdown",
   "metadata": {},
   "source": [
    "Without NA, 10-fold."
   ]
  },
  {
   "cell_type": "code",
   "execution_count": null,
   "metadata": {},
   "outputs": [],
   "source": [
    "death=death[death!=blank]\n",
    "CT_data=CT_data.loc[data['DEATH [d from CT]']!=blank]\n",
    "X = CT_data.values\n",
    "y = death.values\n",
    "## 10-fold validation\n",
    "kacc=[]\n",
    "num=len(y)//10\n",
    "folds=[]\n",
    "y_folds=[]\n",
    "for i in range(10):\n",
    "    foldi=X[(num*i):(num*i+num),:]\n",
    "    y_foldi=y[(num*i):(num*i+num)]\n",
    "    folds.append(foldi)\n",
    "    y_folds.append(y_foldi) \n",
    "for kk in range(10,50):\n",
    "    acc=[]\n",
    "    for i in range(10):\n",
    "        folds1=folds.copy()\n",
    "        y_folds1=y_folds.copy()\n",
    "        del folds1[i]\n",
    "        del y_folds1[i]\n",
    "        train_x=np.vstack(folds1)\n",
    "        test_x=folds[i]\n",
    "        test_y=y_folds[i]\n",
    "        train_y=np.hstack(y_folds1)\n",
    "        sc = MinMaxScaler()\n",
    "        train_X = sc.fit_transform(train_x)\n",
    "        test_X = sc.transform(test_x) \n",
    "        for j in range(len(test_y)):\n",
    "            pred=np.mean(KNN(train_X,train_y,test_X[j],kk))\n",
    "            acc.append(np.absolute(test_y[j]-pred))\n",
    "    kacc.append(sum(acc)/len(test_y)/10)"
   ]
  },
  {
   "cell_type": "code",
   "execution_count": null,
   "metadata": {},
   "outputs": [],
   "source": [
    "validate_X, test_X, validate_y, test_y = train_test_split(testing_X, testing_y, test_size = 0.)\n",
    "mae=[]\n",
    "for kk in range(10,100):    \n",
    "    print(kk)\n",
    "    y_pred=[]\n",
    "    y_lab=[]\n",
    "    num_na=[]\n",
    "    acc=[]\n",
    "    for i in range(len(validate_y)):\n",
    "        y_pred_all=KNN(training_X,training_y,validate_X[i],kk)\n",
    "        y_pred.append(np.mean(y_pred_all))\n",
    "        #num_na.append((np.array(y_pred_all)==blank).sum())\n",
    "        #if num_na[i]>kk/2: y_pred[i]=blank\n",
    "        y_lab.append(y_pred[i])\n",
    "        acc.append(y_lab[i]-validate_y[i])\n",
    "    mae.append(np.absolute(acc).sum()/len(validate_y))\n"
   ]
  },
  {
   "cell_type": "code",
   "execution_count": null,
   "metadata": {},
   "outputs": [
    {
     "data": {
      "text/plain": [
       "Text(0, 0.5, 'Mean Absolute Error')"
      ]
     },
     "metadata": {},
     "output_type": "display_data"
    },
    {
     "data": {
      "image/png": "[encoded data removed]",
      "text/plain": [
       "<Figure size 432x288 with 1 Axes>"
      ]
     },
     "metadata": {},
     "output_type": "display_data"
    }
   ],
   "source": [
    "plt.plot(range(10,50),kacc)\n",
    "#plt.axhline(y=0.5, color='r', linestyle='-')\n",
    "plt.xlabel('K')\n",
    "plt.ylabel('Mean Absolute Error')"
   ]
  }
 ],
 "metadata": {
  "interpreter": {
   "hash": "13f457fc9c733174e4480ab93c31bb27af2163be8665e63275895a21472bd25c"
  },
  "kernelspec": {
   "display_name": "Python 3.8.3",
   "language": "python",
   "name": "python3"
  },
  "language_info": {
   "codemirror_mode": {
    "name": "ipython",
    "version": 3
   },
   "file_extension": ".py",
   "mimetype": "text/x-python",
   "name": "python",
   "nbconvert_exporter": "python",
   "pygments_lexer": "ipython3",
   "version": "3.8.3"
  },
  "orig_nbformat": 4
 },
 "nbformat": 4,
 "nbformat_minor": 2
}
