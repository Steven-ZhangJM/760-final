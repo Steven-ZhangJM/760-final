{
 "cells": [
  {
   "cell_type": "code",
   "execution_count": 1,
   "metadata": {},
   "outputs": [],
   "source": [
    "import numpy as np\n",
    "import pandas as pd\n",
    "from sklearn.preprocessing import StandardScaler\n",
    "from sklearn.ensemble import RandomForestClassifier\n",
    "from sklearn.impute import SimpleImputer\n",
    "from sklearn.model_selection import train_test_split\n",
    "from sklearn.metrics import r2_score"
   ]
  },
  {
   "cell_type": "code",
   "execution_count": 3,
   "metadata": {},
   "outputs": [],
   "source": [
    "df = pd.read_excel(\"OppScrData.xlsx\", sheet_name=\"1st CT Data\")"
   ]
  },
  {
   "cell_type": "code",
   "execution_count": 4,
   "metadata": {},
   "outputs": [],
   "source": [
    "data = df.iloc[:].to_numpy()\n",
    "N = len(data)   # num of samples\n",
    "# each column contains an outcome, zeroth column being death\n",
    "outcomes = data[:, 15:40]\n",
    "# get death outcomes as labels TODO add other outcomes\n",
    "y = np.array([0 if np.isnan(outcomes[:, 0][i]) else 1 for i in range(N)]) \n",
    "X_ct = ct_data = data[:, 41:52]     # get CT data as features\n",
    "X_cln = cln_data = data[:, 3:14]    # get clinical data as features"
   ]
  },
  {
   "cell_type": "code",
   "execution_count": 5,
   "metadata": {},
   "outputs": [],
   "source": [
    "# Preprocess CT data.\n",
    "# last column of CT data contains ' ', convert them to NaN\n",
    "# then CT data only have types nan, float, and int\n",
    "for i in range(N):\n",
    "    if X_ct[i,-1] == ' ':\n",
    "        X_ct[i,-1] = np.nan\n",
    "# eliminate NaN data by imputing them using mean strategy\n",
    "imp = SimpleImputer(missing_values=np.nan, strategy='mean')\n",
    "imp.fit(X_ct)\n",
    "X_ct = imp.transform(X_ct)\n",
    "# standardize\n",
    "scaler = StandardScaler()\n",
    "scaler.fit(X_ct) \n",
    "X_ct = scaler.transform(X_ct)"
   ]
  },
  {
   "cell_type": "code",
   "execution_count": 6,
   "metadata": {},
   "outputs": [],
   "source": [
    "# Preprocess clinical data.\n",
    "# convert string to numbers/nan\n",
    "for i in range(N):\n",
    "    X_cln[i,2] = 1 if X_cln[i,2] == 'Y' else 0\n",
    "    X_cln[i,3] = 1 if X_cln[i,3] == 'Male' else 0\n",
    "    X_cln[i,5] = 1 if X_cln[i,5] == 'Yes' else 0\n",
    "    # X[i,6] TODO alchohol?\n",
    "    \"\"\"\n",
    "    Risk is considered low if the FRS is less than 10%, moderate if it is\n",
    "    10% to 19%, and high if it is 20% or higher. \n",
    "\n",
    "    Ref: \n",
    "    Bosomworth NJ. Practical use of the Framingham risk score in \n",
    "    primary prevention: Canadian perspective. Can Fam Physician. 2011 Apr;\n",
    "    57(4):417–23. http://www.cfp.ca/cgi/pmidlookup?view=long&pmid=21626897\n",
    "    \"\"\"\n",
    "    # we could classify FRS into 3 categories: low, moderate, and high\n",
    "    # but here we convert them to float, taking precise values\n",
    "    if X_cln[i,7] == 'X':\n",
    "        X_cln[i,7] = np.nan\n",
    "    elif type(X_cln[i,7]) is str:  \n",
    "        if X_cln[i,7][0] == '<' or X_cln[i,7][0] == '>':\n",
    "            # take the middle value of [0,x%]\n",
    "            X_cln[i,7] = float(X_cln[i,7][1:-1])/200 \n",
    "\n",
    "    if X_cln[i,8] == '_':\n",
    "        X_cln[i,8] = np.nan \n",
    "\n",
    "# eliminate Clinical F/U interval since its irrelevant is ambiguous\n",
    "# eliminate BMI > 30 and FRAX 10y Hip Fx Prob. \n",
    "#   since they overlap with BMI and FRAX 10y\n",
    "# eliminate Alcohol abuse since it lacks too many samples\n",
    "# eliminate Met sx since it's really more of an outcome, and it lacks \n",
    "#   data points TODO not eliminate them?\n",
    "clms = np.concatenate((np.array([1]), np.arange(3,6), \\\n",
    "    np.arange(7,9)))\n",
    "X_cln = X_cln[:, clms] \n",
    "# deal with NaN by imputing them as mean values.\n",
    "imp = SimpleImputer(missing_values=np.nan, strategy='mean')\n",
    "imp.fit(X_cln)\n",
    "X_cln = imp.transform(X_cln)\n",
    "# standardize\n",
    "scaler = StandardScaler()\n",
    "scaler.fit(X_cln) \n",
    "X_cln = scaler.transform(X_cln)"
   ]
  },
  {
   "cell_type": "code",
   "execution_count": 7,
   "metadata": {},
   "outputs": [],
   "source": [
    "# Combine both CT and clinical data.\n",
    "X = np.hstack((X_ct, X_cln))"
   ]
  },
  {
   "cell_type": "code",
   "execution_count": 8,
   "metadata": {},
   "outputs": [
    {
     "name": "stdout",
     "output_type": "stream",
     "text": [
      "Cross validation accuracy:\n",
      "CT only       :  0.9408310749774165\n",
      "Clinical only :  0.933694670280036\n",
      "Both          :  0.939476061427281\n"
     ]
    }
   ],
   "source": [
    "# Cross validation\n",
    "# scores of each loop\n",
    "sc_ct = np.array([])\n",
    "sc_cln = np.array([])\n",
    "sc_all = np.array([])\n",
    "n = 3 # Reduce n to shorten time.\n",
    "train_size = 0.6    # ((num of training samples) / N)\n",
    "clf = RandomForestClassifier()  # for temporary use \n",
    "for i in range(n):\n",
    "    X_ct_train, X_ct_test, y_train, y_test = \\\n",
    "        train_test_split(X_ct, y, test_size=1-train_size)\n",
    "    clf.fit(X_ct_train, y_train)\n",
    "    sc_ct = np.append(sc_ct, clf.score(X_ct_test, y_test))\n",
    "\n",
    "    X_cln_train, X_cln_test, y_train, y_test = \\\n",
    "        train_test_split(X_cln, y, test_size=1-train_size)\n",
    "    clf.fit(X_cln_train, y_train)\n",
    "    sc_cln = np.append(sc_cln, clf.score(X_cln_test, y_test))\n",
    "\n",
    "    X_train, X_test, y_train, y_test = \\\n",
    "        train_test_split(X, y, test_size=1-train_size)\n",
    "    clf.fit(X_train, y_train)\n",
    "    sc_all = np.append(sc_all, clf.score(X_test, y_test))\n",
    "    \n",
    "print(\"Cross validation accuracy:\")\n",
    "print(\"CT only       : \", np.mean(sc_ct))\n",
    "print(\"Clinical only : \", np.mean(sc_cln))\n",
    "print(\"Both          : \", np.mean(sc_all))"
   ]
  },
  {
   "cell_type": "markdown",
   "metadata": {},
   "source": [
    "TODO ?"
   ]
  },
  {
   "cell_type": "code",
   "execution_count": 9,
   "metadata": {},
   "outputs": [
    {
     "data": {
      "text/plain": [
       "RandomForestClassifier()"
      ]
     },
     "execution_count": 9,
     "metadata": {},
     "output_type": "execute_result"
    }
   ],
   "source": [
    "# Random forest classifier for CT data\n",
    "rfclf = RandomForestClassifier()\n",
    "rfclf.fit(X_ct, y)"
   ]
  },
  {
   "cell_type": "code",
   "execution_count": 11,
   "metadata": {},
   "outputs": [
    {
     "name": "stdout",
     "output_type": "stream",
     "text": [
      "r2 score:  0.5564772220899257\n"
     ]
    }
   ],
   "source": [
    "# R2 score:\n",
    "X_train, X_test, y_train, y_test = \\\n",
    "    train_test_split(X_ct, y, test_size=1-train_size)\n",
    "clf.fit(X_train, y_train)\n",
    "\n",
    "y_pred = clf.predict(X_ct)\n",
    "print(\"r2 score: \", r2_score(y, y_pred))"
   ]
  },
  {
   "cell_type": "code",
   "execution_count": null,
   "metadata": {},
   "outputs": [],
   "source": [
    "# TODO? Death outcome includes [days from CT]?\n",
    "# TODO? Integrate data of same category (e.g. Cols AQ-AU: Fat measures))?\n",
    "# TODO? Clinical training data includes [F/U d from CT]?\n",
    "# TODO? Predict other outcomes as well (including the Metabolic sx?)?"
   ]
  }
 ],
 "metadata": {
  "kernelspec": {
   "display_name": "Python 3 (ipykernel)",
   "language": "python",
   "name": "python3"
  },
  "language_info": {
   "codemirror_mode": {
    "name": "ipython",
    "version": 3
   },
   "file_extension": ".py",
   "mimetype": "text/x-python",
   "name": "python",
   "nbconvert_exporter": "python",
   "pygments_lexer": "ipython3",
   "version": "3.9.7"
  }
 },
 "nbformat": 4,
 "nbformat_minor": 2
}
